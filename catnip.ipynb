{
 "cells": [
  {
   "cell_type": "markdown",
   "id": "f0d232c2",
   "metadata": {},
   "source": [
    "# Catnip"
   ]
  },
  {
   "cell_type": "code",
   "execution_count": 2,
   "id": "2faec48f",
   "metadata": {},
   "outputs": [],
   "source": [
    "# Dependencies and configuration\n",
    "import importlib\n",
    "from src.config import settings, setup_dirs\n",
    "\n",
    "izutsumiPaths, notIzutsumiPaths = setup_dirs()"
   ]
  },
  {
   "cell_type": "markdown",
   "id": "b9572788",
   "metadata": {},
   "source": [
    "## Pre-processing"
   ]
  },
  {
   "cell_type": "markdown",
   "id": "dfe7b7ba",
   "metadata": {},
   "source": [
    "### Panel extraction"
   ]
  },
  {
   "cell_type": "code",
   "execution_count": null,
   "id": "8e5439a3",
   "metadata": {},
   "outputs": [],
   "source": [
    "from modules.coreMPE.src.adenzu_panel.image_processing import panel\n",
    "\n",
    "_ = panel.extract_panels_for_images_in_folder_recursive(\n",
    "    input_dir=str(settings.paths.pages_dir),\n",
    "    output_dir=str(settings.paths.panels_dir),\n",
    "    split_joint_panels=False,   # maps to --split-joint-panels\n",
    "    fallback=True              # maps to --fallback\n",
    ")"
   ]
  },
  {
   "cell_type": "markdown",
   "id": "882e7198",
   "metadata": {},
   "source": [
    "### Head crops"
   ]
  },
  {
   "cell_type": "code",
   "execution_count": null,
   "id": "693bbf02",
   "metadata": {},
   "outputs": [],
   "source": [
    "# Extract head crops (YOLOv8_animeface)\n",
    "from src.headExtraction import anime_extraction_recursive\n",
    "\n",
    "valid_exts = {\".jpg\", \".jpeg\", \".png\"}\n",
    "panel_paths = sorted(\n",
    "    [p for p in settings.paths.panels_dir.iterdir() if p.suffix.lower() in valid_exts]\n",
    ")\n",
    "num_crops = anime_extraction_recursive()\n",
    "\n",
    "print(f\"Extracted {num_crops} faces\")"
   ]
  },
  {
   "cell_type": "markdown",
   "id": "fcfcd928",
   "metadata": {},
   "source": [
    "## Catnip core"
   ]
  },
  {
   "cell_type": "markdown",
   "id": "06a871df",
   "metadata": {},
   "source": [
    "### Model building"
   ]
  },
  {
   "cell_type": "code",
   "execution_count": null,
   "id": "18b1b6c4",
   "metadata": {},
   "outputs": [],
   "source": [
    "import src.embeddingModel\n",
    "importlib.reload(src.embeddingModel)\n",
    "\n",
    "from src.embeddingModel import compute_embeddings, build_model, load_embeddings"
   ]
  },
  {
   "cell_type": "markdown",
   "id": "b54a99d7",
   "metadata": {},
   "source": [
    "#### New model"
   ]
  },
  {
   "cell_type": "code",
   "execution_count": null,
   "id": "1d5b1995",
   "metadata": {},
   "outputs": [],
   "source": [
    "# Build fresh model without loading weights (for new embedding computation)\n",
    "embed_model = build_model(settings.img_size, settings.crops_dir, load_weights=False)\n",
    "compute_embeddings(embed_model, settings.crops_dir, settings.img_size)"
   ]
  },
  {
   "cell_type": "markdown",
   "id": "3598d2c0",
   "metadata": {},
   "source": [
    "#### Previous model"
   ]
  },
  {
   "cell_type": "code",
   "execution_count": null,
   "id": "39561dd5",
   "metadata": {},
   "outputs": [],
   "source": [
    "# Build embedding model (loads saved weights if available)\n",
    "embed_model = build_model(settings.img_size, settings.crops_dir, load_weights=True)\n",
    "embs, crop_paths = load_embeddings(settings.embed_path, settings.crop_path)"
   ]
  },
  {
   "cell_type": "markdown",
   "id": "54770429",
   "metadata": {},
   "source": [
    "## Outputting"
   ]
  },
  {
   "cell_type": "code",
   "execution_count": null,
   "id": "355d4b17",
   "metadata": {},
   "outputs": [],
   "source": [
    "import src.query\n",
    "import src.output\n",
    "importlib.reload(src.query) \n",
    "importlib.reload(src.output)\n",
    "\n",
    "from src.query import izutsumi_query, izutsuminess_rank\n",
    "from src.output import save_similar_results, char_nearest_neighbor\n",
    "\n",
    "import matplotlib.pyplot as plt"
   ]
  },
  {
   "cell_type": "code",
   "execution_count": null,
   "id": "a2fe3eef",
   "metadata": {},
   "outputs": [],
   "source": [
    "crop, index, score, thre = izutsumi_query(settings.embed_path,\n",
    "                                        settings.crop_path,\n",
    "                                        settings.img_size, \n",
    "                                        embed_model, \n",
    "                                        seed_paths,\n",
    "                                        neg_paths,\n",
    "                                        similarity_threshold=-1,\n",
    "                                        alpha=0.5,\n",
    "                                        mode='max')"
   ]
  },
  {
   "cell_type": "code",
   "execution_count": null,
   "id": "d2643f3b",
   "metadata": {},
   "outputs": [],
   "source": [
    "index = izutsuminess_rank(settings.embed_path, settings.crop_path, embed_model, seed_paths, neg_paths)"
   ]
  },
  {
   "cell_type": "code",
   "execution_count": null,
   "id": "834b5c48",
   "metadata": {},
   "outputs": [],
   "source": [
    "plt.figure(figsize=(15, 5))\n",
    "plt.bar(range(len(index)), score)\n",
    "plt.xlabel(\"Izutsuminess\")\n",
    "plt.ylabel(\"Ranked Results\")\n",
    "plt.title(\"Embed score\")\n",
    "plt.show()"
   ]
  },
  {
   "cell_type": "code",
   "execution_count": null,
   "id": "89c80bf0",
   "metadata": {},
   "outputs": [],
   "source": [
    "cutoff = 0\n",
    "\n",
    "results = char_nearest_neighbor(crop, index[cutoff:], score[cutoff:], thre)"
   ]
  },
  {
   "cell_type": "code",
   "execution_count": null,
   "id": "e988e4ee",
   "metadata": {},
   "outputs": [],
   "source": [
    "save_similar_results(crop, index, settings.output_dir, score)"
   ]
  },
  {
   "cell_type": "markdown",
   "id": "ba96737e",
   "metadata": {},
   "source": [
    "## Finetune path"
   ]
  },
  {
   "cell_type": "code",
   "execution_count": null,
   "id": "8a5ee240",
   "metadata": {},
   "outputs": [],
   "source": [
    "import os, shutil, random\n",
    "from pathlib import Path\n",
    "\n",
    "out_dir = settings.training_dir\n",
    "\n",
    "# create YOLO folder structure\n",
    "for split in [\"train\", \"val\"]:\n",
    "    for sub in [\"images\", \"labels\"]:\n",
    "        (out_dir / split / sub).mkdir(parents=True, exist_ok=True)\n",
    "\n",
    "# gather images\n",
    "\n",
    "print(f\"Izutsumi: {len(seed_paths)} | Not Izutsumi: {len(neg_paths)}\")\n",
    "\n",
    "# random split 80/20 for both classes\n",
    "def split_data(imgs, val_ratio=0.2):\n",
    "    random.shuffle(imgs)\n",
    "    n_val = int(len(imgs) * val_ratio)\n",
    "    return imgs[n_val:], imgs[:n_val]  # train, val\n",
    "\n",
    "iz_train, iz_val = split_data(seed_paths)\n",
    "not_train, not_val = split_data(neg_paths)\n",
    "\n",
    "# copy images and create YOLO labels\n",
    "def copy_and_label(imgs, split, class_id):\n",
    "    for img in imgs:\n",
    "        dest_img = out_dir / split / \"images\" / img.name\n",
    "        shutil.copy(img, dest_img)\n",
    "        # create empty label box (classification-style setup)\n",
    "        label_path = out_dir / split / \"labels\" / (img.stem + \".txt\")\n",
    "        with open(label_path, \"w\") as f:\n",
    "            f.write(f\"{class_id} 0.5 0.5 1.0 1.0\\n\")\n",
    "\n",
    "copy_and_label(iz_train, \"train\", 1)\n",
    "copy_and_label(iz_val, \"val\", 1)\n",
    "copy_and_label(not_train, \"train\", 0)\n",
    "copy_and_label(not_val, \"val\", 0)\n"
   ]
  },
  {
   "cell_type": "code",
   "execution_count": null,
   "id": "3f812080",
   "metadata": {},
   "outputs": [],
   "source": [
    "from ultralytics import YOLO, settings\n",
    "from IPython.display import Image, display\n",
    "\n",
    "# Load pretrained animeface model\n",
    "model = YOLO(\"src/models/yolov8x6_animeface.pt\")\n",
    "\n",
    "# Fine-tune on your dataset\n",
    "model.train(\n",
    "    data=\"data/izutsumi_faces.yaml\",\n",
    "    epochs=50,\n",
    "    imgsz=256,\n",
    "    batch=16,\n",
    "    lr0=1e-4,       # lower LR for finetuning\n",
    "    freeze=10,      # freeze backbone layers\n",
    "    project=\"runs/izutsumi_finetune\",\n",
    "    name=\"exp1\"\n",
    ")"
   ]
  }
 ],
 "metadata": {
  "kernelspec": {
   "display_name": "default",
   "language": "python",
   "name": "python3"
  },
  "language_info": {
   "codemirror_mode": {
    "name": "ipython",
    "version": 3
   },
   "file_extension": ".py",
   "mimetype": "text/x-python",
   "name": "python",
   "nbconvert_exporter": "python",
   "pygments_lexer": "ipython3",
   "version": "3.12.11"
  }
 },
 "nbformat": 4,
 "nbformat_minor": 5
}
