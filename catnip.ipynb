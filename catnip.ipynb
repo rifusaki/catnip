{
 "cells": [
  {
   "cell_type": "code",
   "execution_count": 1,
   "id": "2faec48f",
   "metadata": {},
   "outputs": [],
   "source": [
    "# Dependencies and configuration\n",
    "import os\n",
    "from src.config import settings\n",
    "\n",
    "os.makedirs(settings.panels_dir, exist_ok=True)\n",
    "os.makedirs(settings.crops_dir, exist_ok=True)"
   ]
  },
  {
   "cell_type": "code",
   "execution_count": 2,
   "id": "8e5439a3",
   "metadata": {},
   "outputs": [
    {
     "name": "stderr",
     "output_type": "stream",
     "text": [
      "Extracting panels: 100%|██████████| 2826/2826 [04:37<00:00, 10.17it/s]\n"
     ]
    }
   ],
   "source": [
    "from modules.coreMPE.src.adenzu_panel.image_processing import panel\n",
    "\n",
    "_ = panel.extract_panels_for_images_in_folder_recursive(\n",
    "    input_dir=str(settings.pages_dir),\n",
    "    output_dir=str(settings.panels_dir),\n",
    "    split_joint_panels=False,   # maps to --split-joint-panels\n",
    "    fallback=True              # maps to --fallback\n",
    ")"
   ]
  },
  {
   "cell_type": "code",
   "execution_count": 2,
   "id": "693bbf02",
   "metadata": {},
   "outputs": [
    {
     "name": "stderr",
     "output_type": "stream",
     "text": [
      "Detecting faces in panels: 100%|██████████| 14822/14822 [6:23:23<00:00,  1.55s/it]     "
     ]
    },
    {
     "name": "stdout",
     "output_type": "stream",
     "text": [
      "Saved 18991 anime face crops to data/crops\n",
      "Extracted 18991 faces\n"
     ]
    },
    {
     "name": "stderr",
     "output_type": "stream",
     "text": [
      "\n"
     ]
    }
   ],
   "source": [
    "# Extract head crops (YOLOv8_animeface)\n",
    "from src.headExtraction import anime_extraction_recursive\n",
    "\n",
    "panel_paths = sorted(settings.panels_dir.glob(\"*.jpg\"))\n",
    "num_crops = anime_extraction_recursive()\n",
    "\n",
    "print(f\"Extracted {num_crops} faces\")"
   ]
  },
  {
   "cell_type": "code",
   "execution_count": null,
   "id": "39561dd5",
   "metadata": {},
   "outputs": [
    {
     "name": "stdout",
     "output_type": "stream",
     "text": [
      "Found 17759 crops under data/crops\n"
     ]
    }
   ],
   "source": [
    "# Nearest neighbor algorithm for Izutsumi recognition\n",
    "from src.recognitionModel import build_model, char_nearest_neighbor\n",
    "\n",
    "IMG_SIZE = 128\n",
    "\n",
    "embed_model = build_model(IMG_SIZE, settings.crops_dir)\n",
    "seed_paths = [str(p) for p in sorted(settings.izutsumi_dir.glob(\"*.jpg\"))] # Seeds\n",
    "\n",
    "char_nearest_neighbor(settings.embed_path, settings.crop_path, IMG_SIZE, embed_model, seed_paths)"
   ]
  }
 ],
 "metadata": {
  "kernelspec": {
   "display_name": "default",
   "language": "python",
   "name": "python3"
  },
  "language_info": {
   "codemirror_mode": {
    "name": "ipython",
    "version": 3
   },
   "file_extension": ".py",
   "mimetype": "text/x-python",
   "name": "python",
   "nbconvert_exporter": "python",
   "pygments_lexer": "ipython3",
   "version": "3.12.11"
  }
 },
 "nbformat": 4,
 "nbformat_minor": 5
}
