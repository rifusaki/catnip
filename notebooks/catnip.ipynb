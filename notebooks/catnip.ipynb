{
 "cells": [
  {
   "cell_type": "markdown",
   "id": "f0d232c2",
   "metadata": {},
   "source": [
    "# Catnip"
   ]
  },
  {
   "cell_type": "markdown",
   "id": "e0268ef9",
   "metadata": {},
   "source": [
    "## Setup"
   ]
  },
  {
   "cell_type": "markdown",
   "id": "428d790b",
   "metadata": {},
   "source": [
    "### Colab"
   ]
  },
  {
   "cell_type": "code",
   "execution_count": null,
   "id": "56767293",
   "metadata": {},
   "outputs": [],
   "source": [
    "# --- Scripts for Colab ---\n",
    "# Clone repo\n",
    "!git clone -b yolo-finetune --recurse-submodules https://github.com/rifusaki/catnip.git\n",
    "%cd /content/catnip\n",
    "\n",
    "# Authenticate with Google\n",
    "from google.colab import auth\n",
    "auth.authenticate_user()\n",
    "\n",
    "# Install gcsfuse\n",
    "!echo \"deb http://packages.cloud.google.com/apt gcsfuse-bionic main\" > /etc/apt/sources.list.d/gcsfuse.list\n",
    "!curl https://packages.cloud.google.com/apt/doc/apt-key.gpg | apt-key add -\n",
    "!apt -qq update\n",
    "!apt -qq install gcsfuse\n",
    "\n",
    "# Mount bucket\n",
    "!mkdir -p /content/catnip/data\n",
    "!gcsfuse --implicit-dirs catnip-data /content/catnip/data\n",
    "\n",
    "# Install packages not included in Colab\n",
    "%pip install ultralytics pydantic pydantic-settings omegaconf\n",
    "\n",
    "import os\n",
    "from pathlib import Path\n",
    "os.chdir(str(Path.cwd())+'/catnip')"
   ]
  },
  {
   "cell_type": "markdown",
   "id": "e1e836c0",
   "metadata": {},
   "source": [
    "### Local"
   ]
  },
  {
   "cell_type": "code",
   "execution_count": 1,
   "id": "6626adba",
   "metadata": {},
   "outputs": [],
   "source": [
    "# Autoreload for debugging\n",
    "%load_ext autoreload\n",
    "%autoreload 2\n",
    "\n",
    "import os\n",
    "from pathlib import Path\n",
    "os.chdir(Path.cwd().parent)"
   ]
  },
  {
   "cell_type": "markdown",
   "id": "5bc37b22",
   "metadata": {},
   "source": [
    "### General"
   ]
  },
  {
   "cell_type": "code",
   "execution_count": 2,
   "id": "2faec48f",
   "metadata": {},
   "outputs": [
    {
     "name": "stdout",
     "output_type": "stream",
     "text": [
      "Working directory set to: /Users/rifusaki/repos/catnip\n"
     ]
    }
   ],
   "source": [
    "# Dependencies and configuration\n",
    "from src.config import settings, setup_dirs\n",
    "\n",
    "print(\"Working directory set to:\", Path.cwd())\n",
    "izutsumiPaths, notIzutsumiPaths = setup_dirs()"
   ]
  },
  {
   "cell_type": "markdown",
   "id": "b9572788",
   "metadata": {},
   "source": [
    "## Pre-processing"
   ]
  },
  {
   "cell_type": "markdown",
   "id": "dfe7b7ba",
   "metadata": {},
   "source": [
    "### Panel extraction"
   ]
  },
  {
   "cell_type": "code",
   "execution_count": null,
   "id": "8e5439a3",
   "metadata": {},
   "outputs": [],
   "source": [
    "from modules.coreMPE.src.adenzu_panel.image_processing import panel\n",
    "\n",
    "\n",
    "_ = panel.extract_panels_for_images_in_folder_recursive(\n",
    "    input_dir=str(settings.paths.pages_dir),\n",
    "    output_dir=str(settings.paths.panels_dir),\n",
    "    split_joint_panels=False,   # maps to --split-joint-panels\n",
    "    fallback=True              # maps to --fallback\n",
    ")"
   ]
  },
  {
   "cell_type": "markdown",
   "id": "882e7198",
   "metadata": {},
   "source": [
    "### Head crops"
   ]
  },
  {
   "cell_type": "code",
   "execution_count": null,
   "id": "693bbf02",
   "metadata": {},
   "outputs": [],
   "source": [
    "from src.preprocess.headExtraction import anime_extraction_recursive\n",
    "\n",
    "\n",
    "valid_exts = {\".jpg\", \".jpeg\", \".png\"}\n",
    "panel_paths = sorted(\n",
    "    [p for p in settings.paths.panels_dir.iterdir() if p.suffix.lower() in valid_exts]\n",
    ")\n",
    "num_crops = anime_extraction_recursive()\n",
    "\n",
    "print(f\"Extracted {num_crops} faces\")"
   ]
  },
  {
   "cell_type": "markdown",
   "id": "fcfcd928",
   "metadata": {},
   "source": [
    "## Catnip core"
   ]
  },
  {
   "cell_type": "markdown",
   "id": "b7d86d2d",
   "metadata": {},
   "source": [
    "### Dataset preparation"
   ]
  },
  {
   "cell_type": "code",
   "execution_count": null,
   "id": "e1156e97",
   "metadata": {},
   "outputs": [],
   "source": [
    "from src.training.preparation import prepare_data\n",
    "\n",
    "prepare_data(izutsumiPaths, notIzutsumiPaths)"
   ]
  },
  {
   "cell_type": "markdown",
   "id": "f902308d",
   "metadata": {},
   "source": [
    "### Training"
   ]
  },
  {
   "cell_type": "code",
   "execution_count": 4,
   "id": "ac349522",
   "metadata": {},
   "outputs": [
    {
     "name": "stdout",
     "output_type": "stream",
     "text": [
      "env: PYTORCH_ENABLE_MPS_FALLBACK=1\n",
      "layer                                    name                type  gradient  parameters               shape        mu     sigma\n",
      "    0                     model.0.conv.weight              Conv2d     False        2592       [96, 3, 3, 3] -0.000392     0.151        float32\n",
      "    1                       model.0.bn.weight         BatchNorm2d     False          96                [96]      1.42      1.48        float32\n",
      "    1                         model.0.bn.bias         BatchNorm2d     False          96                [96]    -0.407      2.61        float32\n",
      "    2                             model.0.act                SiLU     False           0                  []         -         -              -\n",
      "    3                     model.1.conv.weight              Conv2d     False      165888     [192, 96, 3, 3] -0.000697    0.0306        float32\n",
      "    4                       model.1.bn.weight         BatchNorm2d     False         192               [192]      4.73      1.35        float32\n",
      "    4                         model.1.bn.bias         BatchNorm2d     False         192               [192]    -0.782      1.98        float32\n",
      "    5                 model.2.cv1.conv.weight              Conv2d     False       36864    [192, 192, 1, 1]  -0.00645    0.0538        float32\n",
      "    6                   model.2.cv1.bn.weight         BatchNorm2d     False         192               [192]      2.88       1.4        float32\n",
      "    6                     model.2.cv1.bn.bias         BatchNorm2d     False         192               [192]    -0.183       1.7        float32\n",
      "    7                 model.2.cv2.conv.weight              Conv2d     False      147456    [384, 384, 1, 1]  -0.00195    0.0311        float32\n",
      "    8                   model.2.cv2.bn.weight         BatchNorm2d     False         384               [384]      1.51     0.406        float32\n",
      "    8                     model.2.cv2.bn.bias         BatchNorm2d     False         384               [384]     -1.92      1.11        float32\n",
      "    9             model.2.m.0.cv1.conv.weight              Conv2d     False        4608      [48, 96, 1, 1]   -0.0027    0.0649        float32\n",
      "   10               model.2.m.0.cv1.bn.weight         BatchNorm2d     False          48                [48]      1.99      1.03        float32\n",
      "   10                 model.2.m.0.cv1.bn.bias         BatchNorm2d     False          48                [48]     0.229      2.58        float32\n",
      "   11             model.2.m.0.cv2.conv.weight              Conv2d     False        4608      [48, 96, 1, 1]  -0.00199    0.0529        float32\n",
      "   12               model.2.m.0.cv2.bn.weight         BatchNorm2d     False          48                [48]      2.41     0.683        float32\n",
      "   12                 model.2.m.0.cv2.bn.bias         BatchNorm2d     False          48                [48]    -0.624      1.35        float32\n",
      "   13             model.2.m.0.cv3.conv.weight              Conv2d     False        9216      [96, 96, 1, 1]  -0.00456    0.0625        float32\n",
      "   14               model.2.m.0.cv3.bn.weight         BatchNorm2d     False          96                [96]      2.69     0.466        float32\n",
      "   14                 model.2.m.0.cv3.bn.bias         BatchNorm2d     False          96                [96]   -0.0842      1.63        float32\n",
      "   15         model.2.m.0.m.0.cv1.conv.weight              Conv2d     False       20736      [48, 48, 3, 3]  -0.00146    0.0329        float32\n",
      "   16           model.2.m.0.m.0.cv1.bn.weight         BatchNorm2d     False          48                [48]      1.77      0.75        float32\n",
      "   16             model.2.m.0.m.0.cv1.bn.bias         BatchNorm2d     False          48                [48]    -0.913      2.17        float32\n",
      "   17         model.2.m.0.m.0.cv2.conv.weight              Conv2d     False       20736      [48, 48, 3, 3]  -0.00156    0.0331        float32\n",
      "   18           model.2.m.0.m.0.cv2.bn.weight         BatchNorm2d     False          48                [48]      1.56     0.645        float32\n",
      "   18             model.2.m.0.m.0.cv2.bn.bias         BatchNorm2d     False          48                [48]     0.168      2.39        float32\n",
      "   19         model.2.m.0.m.1.cv1.conv.weight              Conv2d     False       20736      [48, 48, 3, 3]  -0.00146    0.0329        float32\n",
      "   20           model.2.m.0.m.1.cv1.bn.weight         BatchNorm2d     False          48                [48]      1.63     0.427        float32\n",
      "   20             model.2.m.0.m.1.cv1.bn.bias         BatchNorm2d     False          48                [48]    -0.438      1.35        float32\n",
      "   21         model.2.m.0.m.1.cv2.conv.weight              Conv2d     False       20736      [48, 48, 3, 3]  -0.00123    0.0342        float32\n",
      "   22           model.2.m.0.m.1.cv2.bn.weight         BatchNorm2d     False          48                [48]      1.52     0.672        float32\n",
      "   22             model.2.m.0.m.1.cv2.bn.bias         BatchNorm2d     False          48                [48]     0.571      2.28        float32\n",
      "   23             model.2.m.1.cv1.conv.weight              Conv2d     False        4608      [48, 96, 1, 1]  -0.00451    0.0526        float32\n",
      "   24               model.2.m.1.cv1.bn.weight         BatchNorm2d     False          48                [48]      1.04     0.308        float32\n",
      "   24                 model.2.m.1.cv1.bn.bias         BatchNorm2d     False          48                [48]     0.228      1.02        float32\n",
      "   25             model.2.m.1.cv2.conv.weight              Conv2d     False        4608      [48, 96, 1, 1]  -0.00161     0.026        float32\n",
      "   26               model.2.m.1.cv2.bn.weight         BatchNorm2d     False          48                [48]      1.65     0.245        float32\n",
      "   26                 model.2.m.1.cv2.bn.bias         BatchNorm2d     False          48                [48]     -1.22     0.796        float32\n",
      "   27             model.2.m.1.cv3.conv.weight              Conv2d     False        9216      [96, 96, 1, 1]  -0.00396    0.0446        float32\n",
      "   28               model.2.m.1.cv3.bn.weight         BatchNorm2d     False          96                [96]      2.53     0.669        float32\n",
      "   28                 model.2.m.1.cv3.bn.bias         BatchNorm2d     False          96                [96]    -0.214      1.44        float32\n",
      "   29         model.2.m.1.m.0.cv1.conv.weight              Conv2d     False       20736      [48, 48, 3, 3] -0.000996    0.0333        float32\n",
      "   30           model.2.m.1.m.0.cv1.bn.weight         BatchNorm2d     False          48                [48]      1.37     0.273        float32\n",
      "   30             model.2.m.1.m.0.cv1.bn.bias         BatchNorm2d     False          48                [48]     -1.36     0.757        float32\n",
      "   31         model.2.m.1.m.0.cv2.conv.weight              Conv2d     False       20736      [48, 48, 3, 3]  -0.00443    0.0328        float32\n",
      "   32           model.2.m.1.m.0.cv2.bn.weight         BatchNorm2d     False          48                [48]      1.61     0.516        float32\n",
      "   32             model.2.m.1.m.0.cv2.bn.bias         BatchNorm2d     False          48                [48]   -0.0401      1.25        float32\n",
      "   33         model.2.m.1.m.1.cv1.conv.weight              Conv2d     False       20736      [48, 48, 3, 3]  -0.00266     0.037        float32\n",
      "   34           model.2.m.1.m.1.cv1.bn.weight         BatchNorm2d     False          48                [48]      1.09     0.186        float32\n",
      "   34             model.2.m.1.m.1.cv1.bn.bias         BatchNorm2d     False          48                [48]     -1.46     0.707        float32\n",
      "   35         model.2.m.1.m.1.cv2.conv.weight              Conv2d     False       20736      [48, 48, 3, 3]  0.000711    0.0346        float32\n",
      "   36           model.2.m.1.m.1.cv2.bn.weight         BatchNorm2d     False          48                [48]      2.05     0.724        float32\n",
      "   36             model.2.m.1.m.1.cv2.bn.bias         BatchNorm2d     False          48                [48]    -0.153       1.9        float32\n",
      "   37                     model.3.conv.weight              Conv2d     False  1.3271e+06    [384, 384, 3, 3] -0.000492    0.0138        float32\n",
      "   38                       model.3.bn.weight         BatchNorm2d     False         384               [384]      1.48     0.442        float32\n",
      "   38                         model.3.bn.bias         BatchNorm2d     False         384               [384]    -0.789      1.29        float32\n",
      "   39                 model.4.cv1.conv.weight              Conv2d     False      147456    [384, 384, 1, 1]  -0.00262    0.0302        float32\n",
      "   40                   model.4.cv1.bn.weight         BatchNorm2d     False         384               [384]      1.65     0.442        float32\n",
      "   40                     model.4.cv1.bn.bias         BatchNorm2d     False         384               [384]    -0.459      1.31        float32\n",
      "   41                 model.4.cv2.conv.weight              Conv2d     False      589824    [768, 768, 1, 1] -0.000959    0.0203        float32\n",
      "   42                   model.4.cv2.bn.weight         BatchNorm2d     False         768               [768]      1.36     0.298        float32\n",
      "   42                     model.4.cv2.bn.bias         BatchNorm2d     False         768               [768]     -2.13      0.95        float32\n",
      "   43             model.4.m.0.cv1.conv.weight              Conv2d     False       18432     [96, 192, 1, 1]  -0.00162    0.0349        float32\n",
      "   44               model.4.m.0.cv1.bn.weight         BatchNorm2d     False          96                [96]     0.823     0.456        float32\n",
      "   44                 model.4.m.0.cv1.bn.bias         BatchNorm2d     False          96                [96]    0.0842      1.06        float32\n",
      "   45             model.4.m.0.cv2.conv.weight              Conv2d     False       18432     [96, 192, 1, 1]  -0.00106    0.0232        float32\n",
      "   46               model.4.m.0.cv2.bn.weight         BatchNorm2d     False          96                [96]      0.98     0.487        float32\n",
      "   46                 model.4.m.0.cv2.bn.bias         BatchNorm2d     False          96                [96]     0.291     0.849        float32\n",
      "   47             model.4.m.0.cv3.conv.weight              Conv2d     False       36864    [192, 192, 1, 1]  -0.00253    0.0331        float32\n",
      "   48               model.4.m.0.cv3.bn.weight         BatchNorm2d     False         192               [192]      1.61     0.534        float32\n",
      "   48                 model.4.m.0.cv3.bn.bias         BatchNorm2d     False         192               [192]    -0.402      1.25        float32\n",
      "   49         model.4.m.0.m.0.cv1.conv.weight              Conv2d     False       82944      [96, 96, 3, 3] -0.000877    0.0186        float32\n",
      "   50           model.4.m.0.m.0.cv1.bn.weight         BatchNorm2d     False          96                [96]      1.52     0.421        float32\n",
      "   50             model.4.m.0.m.0.cv1.bn.bias         BatchNorm2d     False          96                [96]     -1.21      1.52        float32\n",
      "   51         model.4.m.0.m.0.cv2.conv.weight              Conv2d     False       82944      [96, 96, 3, 3]  -0.00153    0.0191        float32\n",
      "   52           model.4.m.0.m.0.cv2.bn.weight         BatchNorm2d     False          96                [96]      1.48     0.623        float32\n",
      "   52             model.4.m.0.m.0.cv2.bn.bias         BatchNorm2d     False          96                [96]    -0.805      1.35        float32\n",
      "   53         model.4.m.0.m.1.cv1.conv.weight              Conv2d     False       82944      [96, 96, 3, 3]  -0.00101    0.0205        float32\n",
      "   54           model.4.m.0.m.1.cv1.bn.weight         BatchNorm2d     False          96                [96]       1.5      0.37        float32\n",
      "   54             model.4.m.0.m.1.cv1.bn.bias         BatchNorm2d     False          96                [96]     -1.03      1.38        float32\n",
      "   55         model.4.m.0.m.1.cv2.conv.weight              Conv2d     False       82944      [96, 96, 3, 3]  -0.00124    0.0196        float32\n",
      "   56           model.4.m.0.m.1.cv2.bn.weight         BatchNorm2d     False          96                [96]      1.66     0.545        float32\n",
      "   56             model.4.m.0.m.1.cv2.bn.bias         BatchNorm2d     False          96                [96]    -0.382      1.36        float32\n",
      "   57             model.4.m.1.cv1.conv.weight              Conv2d     False       18432     [96, 192, 1, 1] -0.000938    0.0289        float32\n",
      "   58               model.4.m.1.cv1.bn.weight         BatchNorm2d     False          96                [96]      0.81       0.4        float32\n",
      "   58                 model.4.m.1.cv1.bn.bias         BatchNorm2d     False          96                [96]   0.00166     0.868        float32\n",
      "   59             model.4.m.1.cv2.conv.weight              Conv2d     False       18432     [96, 192, 1, 1] -0.000645   0.00837        float32\n",
      "   60               model.4.m.1.cv2.bn.weight         BatchNorm2d     False          96                [96]     0.648     0.258        float32\n",
      "   60                 model.4.m.1.cv2.bn.bias         BatchNorm2d     False          96                [96]    -0.521     0.251        float32\n",
      "   61             model.4.m.1.cv3.conv.weight              Conv2d     False       36864    [192, 192, 1, 1]  -0.00282    0.0265        float32\n",
      "   62               model.4.m.1.cv3.bn.weight         BatchNorm2d     False         192               [192]      1.89     0.375        float32\n",
      "   62                 model.4.m.1.cv3.bn.bias         BatchNorm2d     False         192               [192]    -0.332     0.984        float32\n",
      "   63         model.4.m.1.m.0.cv1.conv.weight              Conv2d     False       82944      [96, 96, 3, 3]  -0.00137    0.0171        float32\n",
      "   64           model.4.m.1.m.0.cv1.bn.weight         BatchNorm2d     False          96                [96]      1.43     0.234        float32\n",
      "   64             model.4.m.1.m.0.cv1.bn.bias         BatchNorm2d     False          96                [96]     -1.55     0.837        float32\n",
      "   65         model.4.m.1.m.0.cv2.conv.weight              Conv2d     False       82944      [96, 96, 3, 3]  -0.00144    0.0203        float32\n",
      "   66           model.4.m.1.m.0.cv2.bn.weight         BatchNorm2d     False          96                [96]      1.36     0.311        float32\n",
      "   66             model.4.m.1.m.0.cv2.bn.bias         BatchNorm2d     False          96                [96]    -0.595     0.987        float32\n",
      "   67         model.4.m.1.m.1.cv1.conv.weight              Conv2d     False       82944      [96, 96, 3, 3]  -0.00172    0.0209        float32\n",
      "   68           model.4.m.1.m.1.cv1.bn.weight         BatchNorm2d     False          96                [96]      1.35     0.239        float32\n",
      "   68             model.4.m.1.m.1.cv1.bn.bias         BatchNorm2d     False          96                [96]     -1.43     0.924        float32\n",
      "   69         model.4.m.1.m.1.cv2.conv.weight              Conv2d     False       82944      [96, 96, 3, 3] -0.000983    0.0207        float32\n",
      "   70           model.4.m.1.m.1.cv2.bn.weight         BatchNorm2d     False          96                [96]      1.76     0.455        float32\n",
      "   70             model.4.m.1.m.1.cv2.bn.bias         BatchNorm2d     False          96                [96]    -0.209      1.26        float32\n",
      "   71                     model.5.conv.weight              Conv2d     False 5.30842e+06    [768, 768, 3, 3] -0.000295   0.00871        float32\n",
      "   72                       model.5.bn.weight         BatchNorm2d     False         768               [768]      1.28     0.492        float32\n",
      "   72                         model.5.bn.bias         BatchNorm2d     False         768               [768]     -0.53     0.924        float32\n",
      "   73                 model.6.cv1.conv.weight              Conv2d     False      589824    [768, 768, 1, 1]  -0.00129    0.0173        float32\n",
      "   74                   model.6.cv1.bn.weight         BatchNorm2d     False         768               [768]      1.17     0.531        float32\n",
      "   74                     model.6.cv1.bn.bias         BatchNorm2d     False         768               [768]    -0.162     0.851        float32\n",
      "   75                 model.6.cv2.conv.weight              Conv2d     False 1.17965e+06   [768, 1536, 1, 1] -0.000423    0.0155        float32\n",
      "   76                   model.6.cv2.bn.weight         BatchNorm2d     False         768               [768]      1.37     0.266        float32\n",
      "   76                     model.6.cv2.bn.bias         BatchNorm2d     False         768               [768]     -1.74     0.831        float32\n",
      "   77             model.6.m.0.cv1.conv.weight              Conv2d     False       73728    [192, 384, 1, 1]  -0.00151    0.0209        float32\n",
      "   78               model.6.m.0.cv1.bn.weight         BatchNorm2d     False         192               [192]      1.14     0.388        float32\n",
      "   78                 model.6.m.0.cv1.bn.bias         BatchNorm2d     False         192               [192]     0.125     0.791        float32\n",
      "   79             model.6.m.0.cv2.conv.weight              Conv2d     False       73728    [192, 384, 1, 1] -0.000193    0.0104        float32\n",
      "   80               model.6.m.0.cv2.bn.weight         BatchNorm2d     False         192               [192]     0.718     0.385        float32\n",
      "   80                 model.6.m.0.cv2.bn.bias         BatchNorm2d     False         192               [192]      0.42      0.56        float32\n",
      "   81             model.6.m.0.cv3.conv.weight              Conv2d     False      147456    [384, 384, 1, 1]  -0.00141    0.0192        float32\n",
      "   82               model.6.m.0.cv3.bn.weight         BatchNorm2d     False         384               [384]      1.39      0.49        float32\n",
      "   82                 model.6.m.0.cv3.bn.bias         BatchNorm2d     False         384               [384]    -0.911     0.953        float32\n",
      "   83         model.6.m.0.m.0.cv1.conv.weight              Conv2d     False      331776    [192, 192, 3, 3] -0.000818    0.0112        float32\n",
      "   84           model.6.m.0.m.0.cv1.bn.weight         BatchNorm2d     False         192               [192]      1.22     0.341        float32\n",
      "   84             model.6.m.0.m.0.cv1.bn.bias         BatchNorm2d     False         192               [192]     -1.41     0.925        float32\n",
      "   85         model.6.m.0.m.0.cv2.conv.weight              Conv2d     False      331776    [192, 192, 3, 3] -0.000767    0.0122        float32\n",
      "   86           model.6.m.0.m.0.cv2.bn.weight         BatchNorm2d     False         192               [192]      1.47     0.454        float32\n",
      "   86             model.6.m.0.m.0.cv2.bn.bias         BatchNorm2d     False         192               [192]    -0.866     0.797        float32\n",
      "   87         model.6.m.0.m.1.cv1.conv.weight              Conv2d     False      331776    [192, 192, 3, 3] -0.000853     0.013        float32\n",
      "   88           model.6.m.0.m.1.cv1.bn.weight         BatchNorm2d     False         192               [192]      1.29     0.284        float32\n",
      "   88             model.6.m.0.m.1.cv1.bn.bias         BatchNorm2d     False         192               [192]     -1.72     0.909        float32\n",
      "   89         model.6.m.0.m.1.cv2.conv.weight              Conv2d     False      331776    [192, 192, 3, 3] -0.000824    0.0118        float32\n",
      "   90           model.6.m.0.m.1.cv2.bn.weight         BatchNorm2d     False         192               [192]      1.47      0.41        float32\n",
      "   90             model.6.m.0.m.1.cv2.bn.bias         BatchNorm2d     False         192               [192]    -0.454      0.93        float32\n",
      "   91             model.6.m.1.cv1.conv.weight              Conv2d     False       73728    [192, 384, 1, 1]   -0.0014    0.0196        float32\n",
      "   92               model.6.m.1.cv1.bn.weight         BatchNorm2d     False         192               [192]     0.941     0.369        float32\n",
      "   92                 model.6.m.1.cv1.bn.bias         BatchNorm2d     False         192               [192]    -0.375     0.736        float32\n",
      "   93             model.6.m.1.cv2.conv.weight              Conv2d     False       73728    [192, 384, 1, 1] -0.000528   0.00587        float32\n",
      "   94               model.6.m.1.cv2.bn.weight         BatchNorm2d     False         192               [192]     0.624     0.195        float32\n",
      "   94                 model.6.m.1.cv2.bn.bias         BatchNorm2d     False         192               [192]    -0.464     0.222        float32\n",
      "   95             model.6.m.1.cv3.conv.weight              Conv2d     False      147456    [384, 384, 1, 1]   -0.0019    0.0177        float32\n",
      "   96               model.6.m.1.cv3.bn.weight         BatchNorm2d     False         384               [384]      1.69     0.276        float32\n",
      "   96                 model.6.m.1.cv3.bn.bias         BatchNorm2d     False         384               [384]    -0.686     0.813        float32\n",
      "   97         model.6.m.1.m.0.cv1.conv.weight              Conv2d     False      331776    [192, 192, 3, 3] -0.000938    0.0122        float32\n",
      "   98           model.6.m.1.m.0.cv1.bn.weight         BatchNorm2d     False         192               [192]      1.45     0.184        float32\n",
      "   98             model.6.m.1.m.0.cv1.bn.bias         BatchNorm2d     False         192               [192]     -1.83     0.713        float32\n",
      "   99         model.6.m.1.m.0.cv2.conv.weight              Conv2d     False      331776    [192, 192, 3, 3]  -0.00118     0.014        float32\n",
      "  100           model.6.m.1.m.0.cv2.bn.weight         BatchNorm2d     False         192               [192]      1.45     0.282        float32\n",
      "  100             model.6.m.1.m.0.cv2.bn.bias         BatchNorm2d     False         192               [192]     -0.81     0.754        float32\n",
      "  101         model.6.m.1.m.1.cv1.conv.weight              Conv2d     False      331776    [192, 192, 3, 3]   -0.0011    0.0146        float32\n",
      "  102           model.6.m.1.m.1.cv1.bn.weight         BatchNorm2d     False         192               [192]      1.39      0.24        float32\n",
      "  102             model.6.m.1.m.1.cv1.bn.bias         BatchNorm2d     False         192               [192]     -1.95     0.863        float32\n",
      "  103         model.6.m.1.m.1.cv2.conv.weight              Conv2d     False      331776    [192, 192, 3, 3] -0.000704     0.014        float32\n",
      "  104           model.6.m.1.m.1.cv2.bn.weight         BatchNorm2d     False         192               [192]      1.84     0.357        float32\n",
      "  104             model.6.m.1.m.1.cv2.bn.bias         BatchNorm2d     False         192               [192]    -0.751     0.972        float32\n",
      "  105                     model.7.conv.weight              Conv2d     False 5.30842e+06    [768, 768, 3, 3] -0.000265   0.00846        float32\n",
      "  106                       model.7.bn.weight         BatchNorm2d     False         768               [768]      1.44     0.514        float32\n",
      "  106                         model.7.bn.bias         BatchNorm2d     False         768               [768]    0.0883      1.03        float32\n",
      "  107                 model.8.cv1.conv.weight              Conv2d     False      589824    [768, 768, 1, 1]  -0.00079    0.0168        float32\n",
      "  108                   model.8.cv1.bn.weight         BatchNorm2d     False         768               [768]      1.38     0.453        float32\n",
      "  108                     model.8.cv1.bn.bias         BatchNorm2d     False         768               [768]     0.623     0.857        float32\n",
      "  109                 model.8.cv2.conv.weight              Conv2d     False 1.17965e+06   [768, 1536, 1, 1] -0.000675    0.0146        float32\n",
      "  110                   model.8.cv2.bn.weight         BatchNorm2d     False         768               [768]      1.88     0.403        float32\n",
      "  110                     model.8.cv2.bn.bias         BatchNorm2d     False         768               [768]    -0.401     0.958        float32\n",
      "  111             model.8.m.0.cv1.conv.weight              Conv2d     False       73728    [192, 384, 1, 1]  -0.00227    0.0218        float32\n",
      "  112               model.8.m.0.cv1.bn.weight         BatchNorm2d     False         192               [192]      1.45     0.361        float32\n",
      "  112                 model.8.m.0.cv1.bn.bias         BatchNorm2d     False         192               [192]    -0.943     0.973        float32\n",
      "  113             model.8.m.0.cv2.conv.weight              Conv2d     False       73728    [192, 384, 1, 1] -0.000588   0.00905        float32\n",
      "  114               model.8.m.0.cv2.bn.weight         BatchNorm2d     False         192               [192]     0.929     0.382        float32\n",
      "  114                 model.8.m.0.cv2.bn.bias         BatchNorm2d     False         192               [192]   -0.0688     0.358        float32\n",
      "  115             model.8.m.0.cv3.conv.weight              Conv2d     False      147456    [384, 384, 1, 1]  -0.00189    0.0175        float32\n",
      "  116               model.8.m.0.cv3.bn.weight         BatchNorm2d     False         384               [384]      1.83     0.317        float32\n",
      "  116                 model.8.m.0.cv3.bn.bias         BatchNorm2d     False         384               [384]    -0.855     0.802        float32\n",
      "  117         model.8.m.0.m.0.cv1.conv.weight              Conv2d     False      331776    [192, 192, 3, 3]  -0.00121    0.0122        float32\n",
      "  118           model.8.m.0.m.0.cv1.bn.weight         BatchNorm2d     False         192               [192]      1.46      0.24        float32\n",
      "  118             model.8.m.0.m.0.cv1.bn.bias         BatchNorm2d     False         192               [192]        -2      0.78        float32\n",
      "  119         model.8.m.0.m.0.cv2.conv.weight              Conv2d     False      331776    [192, 192, 3, 3]  -0.00118    0.0119        float32\n",
      "  120           model.8.m.0.m.0.cv2.bn.weight         BatchNorm2d     False         192               [192]      1.37     0.269        float32\n",
      "  120             model.8.m.0.m.0.cv2.bn.bias         BatchNorm2d     False         192               [192]     -1.04     0.684        float32\n",
      "  121         model.8.m.0.m.1.cv1.conv.weight              Conv2d     False      331776    [192, 192, 3, 3]  -0.00117    0.0135        float32\n",
      "  122           model.8.m.0.m.1.cv1.bn.weight         BatchNorm2d     False         192               [192]      1.57     0.281        float32\n",
      "  122             model.8.m.0.m.1.cv1.bn.bias         BatchNorm2d     False         192               [192]      -2.3     0.878        float32\n",
      "  123         model.8.m.0.m.1.cv2.conv.weight              Conv2d     False      331776    [192, 192, 3, 3]  -0.00123    0.0118        float32\n",
      "  124           model.8.m.0.m.1.cv2.bn.weight         BatchNorm2d     False         192               [192]      1.86      0.36        float32\n",
      "  124             model.8.m.0.m.1.cv2.bn.bias         BatchNorm2d     False         192               [192]      -0.2     0.771        float32\n",
      "  125             model.8.m.1.cv1.conv.weight              Conv2d     False       73728    [192, 384, 1, 1]  -0.00137    0.0143        float32\n",
      "  126               model.8.m.1.cv1.bn.weight         BatchNorm2d     False         192               [192]      1.03     0.371        float32\n",
      "  126                 model.8.m.1.cv1.bn.bias         BatchNorm2d     False         192               [192]    -0.508     0.751        float32\n",
      "  127             model.8.m.1.cv2.conv.weight              Conv2d     False       73728    [192, 384, 1, 1] -0.000401   0.00431        float32\n",
      "  128               model.8.m.1.cv2.bn.weight         BatchNorm2d     False         192               [192]     0.698     0.127        float32\n",
      "  128                 model.8.m.1.cv2.bn.bias         BatchNorm2d     False         192               [192]    -0.377     0.088        float32\n",
      "  129             model.8.m.1.cv3.conv.weight              Conv2d     False      147456    [384, 384, 1, 1]  -0.00125     0.011        float32\n",
      "  130               model.8.m.1.cv3.bn.weight         BatchNorm2d     False         384               [384]      1.28     0.371        float32\n",
      "  130                 model.8.m.1.cv3.bn.bias         BatchNorm2d     False         384               [384]    -0.374     0.428        float32\n",
      "  131         model.8.m.1.m.0.cv1.conv.weight              Conv2d     False      331776    [192, 192, 3, 3] -0.000676   0.00778        float32\n",
      "  132           model.8.m.1.m.0.cv1.bn.weight         BatchNorm2d     False         192               [192]      1.18     0.367        float32\n",
      "  132             model.8.m.1.m.0.cv1.bn.bias         BatchNorm2d     False         192               [192]     -1.26     0.665        float32\n",
      "  133         model.8.m.1.m.0.cv2.conv.weight              Conv2d     False      331776    [192, 192, 3, 3]  -0.00048   0.00872        float32\n",
      "  134           model.8.m.1.m.0.cv2.bn.weight         BatchNorm2d     False         192               [192]      1.56     0.432        float32\n",
      "  134             model.8.m.1.m.0.cv2.bn.bias         BatchNorm2d     False         192               [192]    -0.712     0.621        float32\n",
      "  135         model.8.m.1.m.1.cv1.conv.weight              Conv2d     False      331776    [192, 192, 3, 3] -0.000558    0.0081        float32\n",
      "  136           model.8.m.1.m.1.cv1.bn.weight         BatchNorm2d     False         192               [192]      1.38     0.264        float32\n",
      "  136             model.8.m.1.m.1.cv1.bn.bias         BatchNorm2d     False         192               [192]    -0.944     0.442        float32\n",
      "  137         model.8.m.1.m.1.cv2.conv.weight              Conv2d     False      331776    [192, 192, 3, 3] -0.000466   0.00757        float32\n",
      "  138           model.8.m.1.m.1.cv2.bn.weight         BatchNorm2d     False         192               [192]      1.64      0.41        float32\n",
      "  138             model.8.m.1.m.1.cv2.bn.bias         BatchNorm2d     False         192               [192]    -0.334     0.562        float32\n",
      "  139                 model.9.cv1.conv.weight              Conv2d     False      589824    [768, 768, 1, 1]  -0.00198    0.0236        float32\n",
      "  140                   model.9.cv1.bn.weight         BatchNorm2d     False         768               [768]      2.17       0.4        float32\n",
      "  140                     model.9.cv1.bn.bias         BatchNorm2d     False         768               [768]    -0.861      1.04        float32\n",
      "  141                 model.9.cv2.conv.weight              Conv2d     False      589824    [768, 768, 1, 1]  -0.00134    0.0308        float32\n",
      "  142                   model.9.cv2.bn.weight         BatchNorm2d     False         768               [768]       1.1      0.25        float32\n",
      "  142                     model.9.cv2.bn.bias         BatchNorm2d     False         768               [768]     -2.14     0.832        float32\n",
      "  143        model.9.m.0.attn.qkv.conv.weight              Conv2d     False      294912    [768, 384, 1, 1] -7.28e-05    0.0196        float32\n",
      "  144          model.9.m.0.attn.qkv.bn.weight         BatchNorm2d     False         768               [768]      1.12     0.697        float32\n",
      "  144            model.9.m.0.attn.qkv.bn.bias         BatchNorm2d     False         768               [768]   0.00741     0.404        float32\n",
      "  145                model.9.m.0.attn.qkv.act            Identity     False           0                  []         -         -              -\n",
      "  146       model.9.m.0.attn.proj.conv.weight              Conv2d     False      147456    [384, 384, 1, 1] -0.000108    0.0212        float32\n",
      "  147         model.9.m.0.attn.proj.bn.weight         BatchNorm2d     False         384               [384]       0.4     0.504        float32\n",
      "  147           model.9.m.0.attn.proj.bn.bias         BatchNorm2d     False         384               [384]  2.28e-05   0.00041        float32\n",
      "  148               model.9.m.0.attn.proj.act            Identity     False           0                  []         -         -              -\n",
      "  149         model.9.m.0.attn.pe.conv.weight              Conv2d     False        3456      [384, 1, 3, 3]   -0.0272    0.0495        float32\n",
      "  150           model.9.m.0.attn.pe.bn.weight         BatchNorm2d     False         384               [384]     0.825     0.494        float32\n",
      "  150             model.9.m.0.attn.pe.bn.bias         BatchNorm2d     False         384               [384]  1.24e-05  0.000195        float32\n",
      "  151                 model.9.m.0.attn.pe.act            Identity     False           0                  []         -         -              -\n",
      "  152           model.9.m.0.ffn.0.conv.weight              Conv2d     False      294912    [768, 384, 1, 1] -0.000735    0.0241        float32\n",
      "  153             model.9.m.0.ffn.0.bn.weight         BatchNorm2d     False         768               [768]      0.98     0.253        float32\n",
      "  153               model.9.m.0.ffn.0.bn.bias         BatchNorm2d     False         768               [768]     -2.02     0.568        float32\n",
      "  154           model.9.m.0.ffn.1.conv.weight              Conv2d     False      294912    [384, 768, 1, 1] -0.000203    0.0201        float32\n",
      "  155             model.9.m.0.ffn.1.bn.weight         BatchNorm2d     False         384               [384]     0.405     0.293        float32\n",
      "  155               model.9.m.0.ffn.1.bn.bias         BatchNorm2d     False         384               [384]  4.34e-05  0.000334        float32\n",
      "  156                   model.9.m.0.ffn.1.act            Identity     False           0                  []         -         -              -\n",
      "  157        model.9.m.1.attn.qkv.conv.weight              Conv2d     False      294912    [768, 384, 1, 1]  6.07e-05    0.0256        float32\n",
      "  158          model.9.m.1.attn.qkv.bn.weight         BatchNorm2d     False         768               [768]      1.19     0.602        float32\n",
      "  158            model.9.m.1.attn.qkv.bn.bias         BatchNorm2d     False         768               [768]    0.0137     0.293        float32\n",
      "  159                model.9.m.1.attn.qkv.act            Identity     False           0                  []         -         -              -\n",
      "  160       model.9.m.1.attn.proj.conv.weight              Conv2d     False      147456    [384, 384, 1, 1]  9.25e-05    0.0283        float32\n",
      "  161         model.9.m.1.attn.proj.bn.weight         BatchNorm2d     False         384               [384]     0.752     0.324        float32\n",
      "  161           model.9.m.1.attn.proj.bn.bias         BatchNorm2d     False         384               [384]  3.98e-05  0.000227        float32\n",
      "  162               model.9.m.1.attn.proj.act            Identity     False           0                  []         -         -              -\n",
      "  163         model.9.m.1.attn.pe.conv.weight              Conv2d     False        3456      [384, 1, 3, 3]   -0.0313     0.062        float32\n",
      "  164           model.9.m.1.attn.pe.bn.weight         BatchNorm2d     False         384               [384]      1.04     0.293        float32\n",
      "  164             model.9.m.1.attn.pe.bn.bias         BatchNorm2d     False         384               [384]  -1.4e-05  0.000156        float32\n",
      "  165                 model.9.m.1.attn.pe.act            Identity     False           0                  []         -         -              -\n",
      "  166           model.9.m.1.ffn.0.conv.weight              Conv2d     False      294912    [768, 384, 1, 1] -0.000392    0.0262        float32\n",
      "  167             model.9.m.1.ffn.0.bn.weight         BatchNorm2d     False         768               [768]       1.1     0.236        float32\n",
      "  167               model.9.m.1.ffn.0.bn.bias         BatchNorm2d     False         768               [768]     -2.38       0.6        float32\n",
      "  168           model.9.m.1.ffn.1.conv.weight              Conv2d     False      294912    [384, 768, 1, 1] -3.04e-05    0.0206        float32\n",
      "  169             model.9.m.1.ffn.1.bn.weight         BatchNorm2d     False         384               [384]     0.489     0.269        float32\n",
      "  169               model.9.m.1.ffn.1.bn.bias         BatchNorm2d     False         384               [384]   4.8e-05  0.000173        float32\n",
      "  170                   model.9.m.1.ffn.1.act            Identity     False           0                  []         -         -              -\n",
      "  171               model.10.conv.conv.weight              Conv2d     False      983040   [1280, 768, 1, 1] -0.000367    0.0251        float32\n",
      "  172                 model.10.conv.bn.weight         BatchNorm2d     False        1280              [1280]      4.76     0.541        float32\n",
      "  172                   model.10.conv.bn.bias         BatchNorm2d     False        1280              [1280]     -3.82     0.724        float32\n",
      "  173                           model.10.pool   AdaptiveAvgPool2d     False           0                  []         -         -              -\n",
      "  174                           model.10.drop             Dropout     False           0                  []         -         -              -\n",
      "  175                  model.10.linear.weight              Linear     False    1.28e+06        [1000, 1280]  3.84e-06    0.0381        float32\n",
      "  175                    model.10.linear.bias              Linear     False        1000              [1000]   0.00261     0.633        float32\n",
      "YOLO11x-cls summary: 176 layers, 29,637,064 parameters, 0 gradients, 112.0 GFLOPs\n"
     ]
    },
    {
     "data": {
      "text/plain": [
       "(176, 29637064, 0, 112.0110592)"
      ]
     },
     "execution_count": 4,
     "metadata": {},
     "output_type": "execute_result"
    }
   ],
   "source": [
    "# For Apple Silicon\n",
    "%env PYTORCH_ENABLE_MPS_FALLBACK=1\n",
    "from ultralytics import YOLO\n",
    "\n",
    "model = YOLO(settings.paths.model_dir/'yolo11x-cls.pt')\n",
    "model.info(detailed=True)"
   ]
  },
  {
   "cell_type": "code",
   "execution_count": null,
   "id": "09daddaf",
   "metadata": {},
   "outputs": [],
   "source": [
    "model.train(\n",
    "        data=\"config/izutsumiTraining.yaml\",\n",
    "        epochs=200,\n",
    "        imgsz=settings.params.img_size,\n",
    "        batch=16,\n",
    "        lr0=1e-2,       # lower LR for finetuning\n",
    "        freeze=9,      # freeze backbone layers\n",
    "        project=\"runs/izutsumi_finetune\",\n",
    "        name=\"tl\",\n",
    "        device='cpu', # \"mps\", \"cuda\", \"cpu\"\n",
    "        workers=8,\n",
    "        resume=False,\n",
    "        cache=False     # True for Colab\n",
    "    )"
   ]
  },
  {
   "cell_type": "markdown",
   "id": "332e723f",
   "metadata": {},
   "source": [
    "### Evaluation"
   ]
  },
  {
   "cell_type": "code",
   "execution_count": null,
   "id": "feb7b878",
   "metadata": {},
   "outputs": [],
   "source": [
    "# Evaluate\n",
    "metrics = model.val()\n",
    "print(metrics)  "
   ]
  },
  {
   "cell_type": "markdown",
   "id": "df8b4afb",
   "metadata": {},
   "source": [
    "### Prediction"
   ]
  },
  {
   "cell_type": "code",
   "execution_count": null,
   "id": "5e54a477",
   "metadata": {},
   "outputs": [],
   "source": [
    "# Predict on unseen images\n",
    "model.predict(\n",
    "    source=\"data/recognition/izutsumiTraining/val/images\",\n",
    "    save=True,\n",
    "    conf=0.5\n",
    ")"
   ]
  }
 ],
 "metadata": {
  "kernelspec": {
   "display_name": "default",
   "language": "python",
   "name": "python3"
  },
  "language_info": {
   "codemirror_mode": {
    "name": "ipython",
    "version": 3
   },
   "file_extension": ".py",
   "mimetype": "text/x-python",
   "name": "python",
   "nbconvert_exporter": "python",
   "pygments_lexer": "ipython3",
   "version": "3.12.11"
  }
 },
 "nbformat": 4,
 "nbformat_minor": 5
}
